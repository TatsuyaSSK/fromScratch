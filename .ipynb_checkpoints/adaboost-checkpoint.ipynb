{
 "cells": [
  {
   "cell_type": "code",
   "execution_count": 33,
   "metadata": {},
   "outputs": [],
   "source": [
    "import numpy as np\n",
    "\n",
    "\n",
    "# 弱分類器（切り株）の実装\n",
    "class DecisionStump():\n",
    "    def __init__(self):\n",
    "        self.polarity = 1\n",
    "        self.feature_idx = None\n",
    "        self.threshold = None\n",
    "        self.alpha = None\n",
    "\n",
    "    # threshold を境に、-1,1のいずれかの予測を行う\n",
    "    def predict(self, X):\n",
    "        n_samples = X.shape[0]\n",
    "        X_column = X[:, self.feature_idx]\n",
    "        predictions = np.ones(n_samples)\n",
    "        if self.polarity == 1:\n",
    "            predictions[X_column < self.threshold] = -1\n",
    "        else:\n",
    "            predictions[X_column > self.threshold] = -1\n",
    "        return predictions\n",
    "\n",
    "\n",
    "class Adaboost():\n",
    "\n",
    "    # n_clfは、繰り返す回数を表している\n",
    "    def __init__(self, n_clf=5):\n",
    "        self.n_clf = n_clf\n",
    "\n",
    "    # -1を1に、1を0に変換する指示関数\n",
    "    def transform(self, predictions, y):\n",
    "        indicator = []\n",
    "        for i in range(len(predictions)):\n",
    "            if predictions[i] == y[i]:\n",
    "                indicator.append(0)\n",
    "            else:\n",
    "                indicator.append(1)\n",
    "        return indicator\n",
    "\n",
    "    def fit(self, X, y,X_test):\n",
    "        n_samples, n_features = X.shape\n",
    "\n",
    "        # 重みの初期値を1/N(i=1,2,...,N)に設定\n",
    "        w = np.full(n_samples, (1/n_samples))\n",
    "\n",
    "        self.clfs = []   \n",
    "        self.predicts = []\n",
    "\n",
    "        for _ in range(self.n_clf):\n",
    "            clf = DecisionStump()\n",
    "\n",
    "            min_error = float('inf')\n",
    "\n",
    "            # 最も誤分類の少ない、ある特徴量におけるしきい値を求める\n",
    "            for feature_i in range(n_features):\n",
    "                X_column = X[:, feature_i]\n",
    "                thresholds = np.unique(X_column)\n",
    "\n",
    "                for threshold in thresholds:\n",
    "                    polarity = 1\n",
    "                    predictions = np.ones(n_samples)\n",
    "                    predictions[X_column < threshold] = -1\n",
    "\n",
    "                    misclassified = w[y != predictions]\n",
    "                    # errorは、2(b)の分子（分母は正規化して1としているので無視して良い）\n",
    "                    error = sum(misclassified)\n",
    "\n",
    "                    if error > 0.5:\n",
    "                        error = 1 - error\n",
    "                        polarity = -1\n",
    "\n",
    "                    if error < min_error:\n",
    "                        clf.polarity = polarity\n",
    "                        clf.threshold = threshold\n",
    "                        clf.feature_idx = feature_i\n",
    "                        min_error = error\n",
    "\n",
    "            EPS = 1e-10\n",
    "            clf.alpha = np.log((1.0 - min_error + EPS) / (min_error + EPS))\n",
    "\n",
    "            predictions = clf.predict(X)\n",
    "\n",
    "            indicator = np.array(self.transform(predictions, y))\n",
    "            # 誤分類した観測値の重みを増し、正しく分類した観測値の重みを減らす\n",
    "            w *= np.exp(clf.alpha * indicator)\n",
    "\n",
    "            # wの合計を1に正規化\n",
    "            w /= np.sum(w)\n",
    "            \n",
    "            self.clfs.append(clf)\n",
    "            \n",
    "            self.predicts.append(self.predict(X_test))\n",
    "            \n",
    "     # alphaで重み付けして、符合関数で予測\n",
    "    def predict(self, X):\n",
    "        clf_preds = [clf.alpha * clf.predict(X) for clf in self.clfs]\n",
    "        y_pred = np.sum(clf_preds, axis=0)\n",
    "        y_pred = np.sign(y_pred)\n",
    "        return y_pred"
   ]
  },
  {
   "cell_type": "code",
   "execution_count": 34,
   "metadata": {},
   "outputs": [],
   "source": [
    "#シード値を固定\n",
    "np.random.seed(0)\n",
    "\n",
    "#標準正規分布に従う乱数を12000個発生\n",
    "X = np.random.randn(12000,10)"
   ]
  },
  {
   "cell_type": "code",
   "execution_count": 35,
   "metadata": {},
   "outputs": [],
   "source": [
    "#正解ラベル作成\n",
    "def generateLabel(X):\n",
    "    y = []\n",
    "    for i in range(X.shape[0]):\n",
    "        squaredX = [ j**2 for j in X[i]]\n",
    "        #10自由度のカイ二乗分布に従う確率変数の中央値より大きいか否かで判定\n",
    "        if sum(squaredX) > 9.34:\n",
    "            y.append(1)\n",
    "        else:\n",
    "            y.append(-1)\n",
    "    return y\n",
    "\n",
    "y = generateLabel(X)"
   ]
  },
  {
   "cell_type": "code",
   "execution_count": 36,
   "metadata": {},
   "outputs": [],
   "source": [
    "X_train = X[0:2000]\n",
    "X_test = X[2000:12000]\n",
    "y_train = y[0:2000]\n",
    "y_test = y[2000:12000]"
   ]
  },
  {
   "cell_type": "code",
   "execution_count": 38,
   "metadata": {},
   "outputs": [
    {
     "name": "stdout",
     "output_type": "stream",
     "text": [
      "誤分類率: 0.45840000000000003\n"
     ]
    }
   ],
   "source": [
    "import numpy as np\n",
    "from sklearn import datasets\n",
    "from sklearn.model_selection import train_test_split\n",
    "\n",
    "from adaboost import Adaboost\n",
    "\n",
    "def misclassificationRate(y_true, y_pred):\n",
    "    miss_rate =  1- np.sum(y_true == y_pred) / len(y_true)\n",
    "    return miss_rate\n",
    "\n",
    "# 単独の切り株の場合\n",
    "clf = Adaboost(n_clf=1)\n",
    "clf.fit(X_train, y_train)\n",
    "y_pred = clf.predict(X_test)\n",
    "\n",
    "miss_rate = misclassificationRate(y_test, y_pred)\n",
    "print(\"誤分類率:\", miss_rate)"
   ]
  },
  {
   "cell_type": "code",
   "execution_count": 39,
   "metadata": {},
   "outputs": [
    {
     "name": "stdout",
     "output_type": "stream",
     "text": [
      "誤分類率: 0.1362\n"
     ]
    }
   ],
   "source": [
    "# 400回繰り返した場合\n",
    "clf = Adaboost(n_clf=400)\n",
    "clf.fit(X_train, y_train)\n",
    "y_pred = clf.predict(X_test)\n",
    "\n",
    "miss_rate = misclassificationRate(y_test, y_pred)\n",
    "print(\"誤分類率:\", miss_rate)"
   ]
  },
  {
   "cell_type": "code",
   "execution_count": null,
   "metadata": {},
   "outputs": [],
   "source": []
  },
  {
   "cell_type": "code",
   "execution_count": null,
   "metadata": {},
   "outputs": [],
   "source": []
  },
  {
   "cell_type": "code",
   "execution_count": null,
   "metadata": {},
   "outputs": [],
   "source": []
  }
 ],
 "metadata": {
  "kernelspec": {
   "display_name": "Python 3",
   "language": "python",
   "name": "python3"
  },
  "language_info": {
   "codemirror_mode": {
    "name": "ipython",
    "version": 3
   },
   "file_extension": ".py",
   "mimetype": "text/x-python",
   "name": "python",
   "nbconvert_exporter": "python",
   "pygments_lexer": "ipython3",
   "version": "3.7.0"
  }
 },
 "nbformat": 4,
 "nbformat_minor": 4
}
